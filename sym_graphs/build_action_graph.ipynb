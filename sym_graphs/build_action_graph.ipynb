{
 "cells": [
  {
   "cell_type": "code",
   "execution_count": null,
   "id": "9d3106ea-2e10-4f19-8083-547382b0dbe5",
   "metadata": {},
   "outputs": [],
   "source": [
    "class ActionGraph:\n",
    "    def __init__(self):\n",
    "        self.graph = {} \n",
    "\n",
    "    def add_path(self, words, synonym):\n",
    "        if len(words) == 1:\n",
    "            word = words[0]\n",
    "            if word not in self.graph:\n",
    "                self.graph[word] = {'': [synonym]}\n",
    "            else:\n",
    "                self.graph[word][''] = self.graph[word].get('', []) + [synonym]\n",
    "        else:\n",
    "            current = words[0]\n",
    "            for next_word in words[1:-1]:\n",
    "                if current not in self.graph:\n",
    "                    self.graph[current] = {next_word: []}\n",
    "                elif next_word not in self.graph[current]:\n",
    "                    self.graph[current][next_word] = []\n",
    "                current = next_word\n",
    "\n",
    "            if current not in self.graph:\n",
    "                self.graph[current] = {words[-1]: [synonym]}\n",
    "            else:\n",
    "                self.graph[current][words[-1]] = self.graph[current].get(words[-1], []) + [synonym]\n",
    "\n",
    "    def is_synonym(self, word_list, goal_word):\n",
    "        if len(word_list) == 1:\n",
    "            return goal_word in self.graph.get(word_list[0], {}).get('', [])\n",
    "        else:\n",
    "            current = word_list[0]\n",
    "            for word in word_list[1:]:\n",
    "                if current in self.graph and word in self.graph[current]:\n",
    "                    current = word\n",
    "                else:\n",
    "                    return False  \n",
    "                \n",
    "            return goal_word in self.graph.get(word_list[-2], {}).get(word_list[-1], [])"
   ]
  },
  {
   "cell_type": "code",
   "execution_count": null,
   "id": "66bae170-8800-4b20-aede-827ddecfbd32",
   "metadata": {},
   "outputs": [],
   "source": [
    "def save_graph(graph, filename):\n",
    "    with open(filename, 'wb') as file:\n",
    "        pickle.dump(graph, file)\n",
    "\n",
    "def load_graph(filename):\n",
    "    with open(filename, 'rb') as file:\n",
    "        return pickle.load(file)"
   ]
  }
 ],
 "metadata": {
  "kernelspec": {
   "display_name": "Python 3 (ipykernel)",
   "language": "python",
   "name": "python3"
  },
  "language_info": {
   "codemirror_mode": {
    "name": "ipython",
    "version": 3
   },
   "file_extension": ".py",
   "mimetype": "text/x-python",
   "name": "python",
   "nbconvert_exporter": "python",
   "pygments_lexer": "ipython3",
   "version": "3.9.13"
  }
 },
 "nbformat": 4,
 "nbformat_minor": 5
}
